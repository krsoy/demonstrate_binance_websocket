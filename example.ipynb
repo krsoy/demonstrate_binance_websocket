{
 "cells": [
  {
   "cell_type": "markdown",
   "source": [
    "from fetch_data import *\n",
    "import matplotlib.pyplot as plt\n",
    "import pandas as pd\n"
   ],
   "metadata": {
    "collapsed": false
   },
   "id": "2d1eecb484e147c"
  },
  {
   "cell_type": "code",
   "execution_count": 2,
   "outputs": [
    {
     "ename": "NameError",
     "evalue": "name 'get_data' is not defined",
     "output_type": "error",
     "traceback": [
      "\u001B[1;31m---------------------------------------------------------------------------\u001B[0m",
      "\u001B[1;31mNameError\u001B[0m                                 Traceback (most recent call last)",
      "Cell \u001B[1;32mIn[2], line 6\u001B[0m\n\u001B[0;32m      3\u001B[0m endtime \u001B[38;5;241m=\u001B[39m \u001B[38;5;124m\"\u001B[39m\u001B[38;5;124m2025-03-08T12:35:00\u001B[39m\u001B[38;5;124m\"\u001B[39m  \u001B[38;5;66;03m# Adjust based on your data\u001B[39;00m\n\u001B[0;32m      5\u001B[0m \u001B[38;5;66;03m# Get the data\u001B[39;00m\n\u001B[1;32m----> 6\u001B[0m df \u001B[38;5;241m=\u001B[39m \u001B[43mget_data\u001B[49m(symbol, starttime, endtime)\n",
      "\u001B[1;31mNameError\u001B[0m: name 'get_data' is not defined"
     ]
    }
   ],
   "source": [
    "symbol = \"btc\"\n",
    "starttime = \"2025-03-08T04:00:00\"  # Adjust based on your data\n",
    "endtime = \"2025-03-08T12:35:00\"  # Adjust based on your data\n",
    "\n",
    "# Get the data\n",
    "df = get_data(symbol, starttime, endtime)"
   ],
   "metadata": {
    "collapsed": false,
    "ExecuteTime": {
     "end_time": "2025-03-08T04:31:23.623425400Z",
     "start_time": "2025-03-08T04:31:23.594502Z"
    }
   },
   "id": "38db9d55f4e29c7e"
  },
  {
   "cell_type": "code",
   "execution_count": null,
   "outputs": [],
   "source": [],
   "metadata": {
    "collapsed": false
   },
   "id": "9286561dc0fda189"
  }
 ],
 "metadata": {
  "kernelspec": {
   "display_name": "Python 3",
   "language": "python",
   "name": "python3"
  },
  "language_info": {
   "codemirror_mode": {
    "name": "ipython",
    "version": 2
   },
   "file_extension": ".py",
   "mimetype": "text/x-python",
   "name": "python",
   "nbconvert_exporter": "python",
   "pygments_lexer": "ipython2",
   "version": "2.7.6"
  }
 },
 "nbformat": 4,
 "nbformat_minor": 5
}
