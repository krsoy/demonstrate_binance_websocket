{
 "cells": [
  {
   "cell_type": "markdown",
   "id": "b18322cdf954c4f3",
   "metadata": {
    "collapsed": false
   },
   "source": []
  },
  {
   "cell_type": "code",
   "execution_count": 2,
   "id": "121d63b4a88e075c",
   "metadata": {
    "ExecuteTime": {
     "end_time": "2025-03-08T05:03:50.167491800Z",
     "start_time": "2025-03-08T05:03:50.119932600Z"
    },
    "collapsed": false
   },
   "outputs": [
    {
     "name": "stdout",
     "output_type": "stream",
     "text": [
      "DataFrame Info:\n",
      "<class 'pandas.core.frame.DataFrame'>\n",
      "Index: 5535 entries, 32 to 5566\n",
      "Data columns (total 6 columns):\n",
      " #   Column          Non-Null Count  Dtype         \n",
      "---  ------          --------------  -----         \n",
      " 0   Price           5535 non-null   float64       \n",
      " 1   Quantity        5535 non-null   float64       \n",
      " 2   TradeTimestamp  5535 non-null   datetime64[ns]\n",
      " 3   IsBuyerMaker    5535 non-null   bool          \n",
      " 4   OrderID         5535 non-null   int64         \n",
      " 5   BatchTimestamp  5535 non-null   datetime64[ns]\n",
      "dtypes: bool(1), datetime64[ns](2), float64(2), int64(1)\n",
      "memory usage: 264.9 KB\n",
      "None\n",
      "\n",
      "First few rows:\n",
      "      Price  Quantity                TradeTimestamp  IsBuyerMaker     OrderID  \\\n",
      "32  85880.0     0.004 2025-03-08 04:00:01.894999981          True  6073301757   \n",
      "33  85880.1     0.004 2025-03-08 04:00:01.900000095         False  6073301758   \n",
      "34  85880.0     0.796 2025-03-08 04:00:01.901000023          True  6073301759   \n",
      "35  85880.0     0.018 2025-03-08 04:00:01.901000023          True  6073301760   \n",
      "36  85880.1     0.010 2025-03-08 04:00:01.907999992         False  6073301761   \n",
      "\n",
      "               BatchTimestamp  \n",
      "32 2025-03-08 04:00:55.303466  \n",
      "33 2025-03-08 04:00:55.303466  \n",
      "34 2025-03-08 04:00:55.303466  \n",
      "35 2025-03-08 04:00:55.303466  \n",
      "36 2025-03-08 04:00:55.303466  \n",
      "\n",
      "Summary statistics:\n",
      "              Price     Quantity                 TradeTimestamp       OrderID  \\\n",
      "count   5535.000000  5535.000000                           5535  5.535000e+03   \n",
      "mean   85785.074634     0.038729  2025-03-08 04:01:29.719064576  6.073305e+09   \n",
      "min        0.000000     0.000000  2025-03-08 04:00:01.894999981  6.073302e+09   \n",
      "25%    85751.000000     0.002000  2025-03-08 04:00:40.137000192  6.073303e+09   \n",
      "50%    85805.100000     0.005000  2025-03-08 04:01:36.552999936  6.073305e+09   \n",
      "75%    85846.600000     0.026000  2025-03-08 04:02:08.460999936  6.073306e+09   \n",
      "max    85882.600000     1.623000  2025-03-08 04:02:58.397000074  6.073307e+09   \n",
      "std     1154.345284     0.102966                            NaN  1.597961e+03   \n",
      "\n",
      "                      BatchTimestamp  \n",
      "count                           5535  \n",
      "mean   2025-03-08 04:02:00.501737472  \n",
      "min       2025-03-08 04:00:55.303466  \n",
      "25%    2025-03-08 04:00:55.303465984  \n",
      "50%    2025-03-08 04:01:57.702793984  \n",
      "75%    2025-03-08 04:02:58.615304960  \n",
      "max       2025-03-08 04:02:58.615305  \n",
      "std                              NaN  \n"
     ]
    }
   ],
   "source": [
    "from fetch_data import *\n",
    "import pandas as pd\n",
    "import matplotlib.pyplot as plt\n",
    "import matplotlib.dates as mdates\n",
    "symbol = \"btc\" # 要获取的数据的名称\n",
    "starttime = \"2025-03-08T04:00:00\"  # 开始时间 注意时差，数据使用utc时间\n",
    "endtime = \"2025-03-08T12:35:00\"  # 结束时间\n",
    "\n",
    "# Get the data\n",
    "df = get_data(symbol, starttime, endtime)"
   ]
  },
  {
   "cell_type": "code",
   "execution_count": 3,
   "id": "19f6f6cdc6361651",
   "metadata": {
    "ExecuteTime": {
     "end_time": "2025-03-08T05:03:55.207012600Z",
     "start_time": "2025-03-08T05:03:55.185858100Z"
    },
    "collapsed": false
   },
   "outputs": [
    {
     "name": "stdout",
     "output_type": "stream",
     "text": [
      "      Price  Quantity                TradeTimestamp  IsBuyerMaker     OrderID  \\\n",
      "32  85880.0     0.004 2025-03-08 04:00:01.894999981          True  6073301757   \n",
      "33  85880.1     0.004 2025-03-08 04:00:01.900000095         False  6073301758   \n",
      "34  85880.0     0.796 2025-03-08 04:00:01.901000023          True  6073301759   \n",
      "35  85880.0     0.018 2025-03-08 04:00:01.901000023          True  6073301760   \n",
      "36  85880.1     0.010 2025-03-08 04:00:01.907999992         False  6073301761   \n",
      "\n",
      "               BatchTimestamp  \n",
      "32 2025-03-08 04:00:55.303466  \n",
      "33 2025-03-08 04:00:55.303466  \n",
      "34 2025-03-08 04:00:55.303466  \n",
      "35 2025-03-08 04:00:55.303466  \n",
      "36 2025-03-08 04:00:55.303466  \n"
     ]
    }
   ],
   "source": [
    "print(df.head())"
   ]
  },
  {
   "cell_type": "code",
   "execution_count": 21,
   "id": "32994295-129c-4bc0-b78f-c35065fbb253",
   "metadata": {
    "ExecuteTime": {
     "end_time": "2025-03-08T05:07:43.010857800Z",
     "start_time": "2025-03-08T05:07:42.997306900Z"
    }
   },
   "outputs": [
    {
     "name": "stderr",
     "output_type": "stream",
     "text": [
      "C:\\Users\\73193\\AppData\\Local\\Temp\\ipykernel_83704\\2189910708.py:3: FutureWarning: The 'method' keyword in Series.replace is deprecated and will be removed in a future version.\n",
      "  df['Price'] = df['Price'].replace(0, method='ffill')\n"
     ]
    }
   ],
   "source": [
    "# 价格走势图ohlc 和交易量\n",
    "df.index = pd.to_datetime(df.TradeTimestamp)\n",
    "df['Price'] = df['Price'].replace(0, method='ffill')\n",
    "ohlc = df['Price'].resample('1Min').ohlc()\n",
    "ohlc = ohlc.dropna()\n",
    "# ffill zero value\n",
    "\n",
    "ohlc['volume'] = df['Quantity'].resample('1Min').sum()\n",
    "ohlc['Date'] = ohlc.index.map(mdates.date2num)\n",
    "ohlc_data = ohlc[['Date', 'open', 'high', 'low', 'close']].values\n"
   ]
  },
  {
   "cell_type": "code",
   "execution_count": 22,
   "id": "ca4798e7-8f0b-49ab-bbd8-6f49c08b89d3",
   "metadata": {
    "ExecuteTime": {
     "end_time": "2025-03-08T05:07:43.903744500Z",
     "start_time": "2025-03-08T05:07:43.897561600Z"
    }
   },
   "outputs": [
    {
     "name": "stdout",
     "output_type": "stream",
     "text": [
      "                        open     high      low    close  volume          Date\n",
      "TradeTimestamp                                                               \n",
      "2025-03-08 04:00:00  85880.0  85882.6  85842.0  85844.7  61.971  20155.166667\n",
      "2025-03-08 04:01:00  85844.7  85844.7  85764.2  85764.2  69.072  20155.167361\n",
      "2025-03-08 04:02:00  85764.2  85767.9  85708.2  85714.5  83.323  20155.168056\n"
     ]
    }
   ],
   "source": [
    "print(ohlc)"
   ]
  },
  {
   "cell_type": "code",
   "execution_count": 28,
   "id": "9bb98e1ca0b62ce4",
   "metadata": {
    "collapsed": false,
    "ExecuteTime": {
     "end_time": "2025-03-08T05:10:08.927418Z",
     "start_time": "2025-03-08T05:10:08.817442500Z"
    }
   },
   "outputs": [
    {
     "data": {
      "text/plain": "<Figure size 800x575 with 2 Axes>",
      "image/png": "[encoded data removed]"
     },
     "metadata": {},
     "output_type": "display_data"
    }
   ],
   "source": [
    "import mplfinance as mpf\n",
    "    # Create the plot\n",
    "mpf.plot(ohlc,type='candle')\n",
    "\n",
    "\n"
   ]
  },
  {
   "cell_type": "code",
   "execution_count": null,
   "id": "9a6a2f31a74b9337",
   "metadata": {
    "collapsed": false
   },
   "outputs": [],
   "source": []
  }
 ],
 "metadata": {
  "kernelspec": {
   "display_name": "Python 3 (ipykernel)",
   "language": "python",
   "name": "python3"
  },
  "language_info": {
   "codemirror_mode": {
    "name": "ipython",
    "version": 3
   },
   "file_extension": ".py",
   "mimetype": "text/x-python",
   "name": "python",
   "nbconvert_exporter": "python",
   "pygments_lexer": "ipython3",
   "version": "3.10.0"
  }
 },
 "nbformat": 4,
 "nbformat_minor": 5
}
